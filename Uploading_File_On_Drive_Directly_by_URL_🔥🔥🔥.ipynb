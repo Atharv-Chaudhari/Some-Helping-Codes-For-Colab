{
  "nbformat": 4,
  "nbformat_minor": 0,
  "metadata": {
    "colab": {
      "name": "Uploading File On Drive Directly by URL 🔥🔥🔥.ipynb",
      "provenance": []
    },
    "kernelspec": {
      "name": "python3",
      "display_name": "Python 3"
    },
    "language_info": {
      "name": "python"
    }
  },
  "cells": [
    {
      "cell_type": "code",
      "metadata": {
        "id": "mMtgow8IS8LW"
      },
      "source": [
        "# https://he-public-data.s3.ap-southeast-1.amazonaws.com/shell_dataset.zip"
      ],
      "execution_count": null,
      "outputs": []
    },
    {
      "cell_type": "code",
      "metadata": {
        "colab": {
          "base_uri": "https://localhost:8080/"
        },
        "id": "plhHgbqKS9VY",
        "outputId": "95322ed9-2aba-4f33-c7c4-a60931485bd4"
      },
      "source": [
        "!wget -P /content/drive/My\\ Drive/dirUrl https://he-public-data.s3.ap-southeast-1.amazonaws.com/shell_dataset.zip"
      ],
      "execution_count": 1,
      "outputs": [
        {
          "output_type": "stream",
          "name": "stdout",
          "text": [
            "--2021-10-31 12:23:13--  https://he-public-data.s3.ap-southeast-1.amazonaws.com/shell_dataset.zip\n",
            "Resolving he-public-data.s3.ap-southeast-1.amazonaws.com (he-public-data.s3.ap-southeast-1.amazonaws.com)... 52.219.125.47\n",
            "Connecting to he-public-data.s3.ap-southeast-1.amazonaws.com (he-public-data.s3.ap-southeast-1.amazonaws.com)|52.219.125.47|:443... connected.\n",
            "HTTP request sent, awaiting response... 200 OK\n",
            "Length: 3467218047 (3.2G) [binary/octet-stream]\n",
            "Saving to: ‘/content/drive/My Drive/dirUrl/shell_dataset.zip’\n",
            "\n",
            "shell_dataset.zip   100%[===================>]   3.23G  12.7MB/s    in 4m 26s  \n",
            "\n",
            "2021-10-31 12:27:40 (12.5 MB/s) - ‘/content/drive/My Drive/dirUrl/shell_dataset.zip’ saved [3467218047/3467218047]\n",
            "\n"
          ]
        }
      ]
    },
    {
      "cell_type": "code",
      "metadata": {
        "id": "k0oMnWp0TW0u"
      },
      "source": [
        "# /content/drive/MyDrive/Shell ZIP"
      ],
      "execution_count": null,
      "outputs": []
    }
  ]
}